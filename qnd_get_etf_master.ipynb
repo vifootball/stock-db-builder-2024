{
 "cells": [
  {
   "cell_type": "code",
   "execution_count": 2,
   "metadata": {},
   "outputs": [],
   "source": [
    "import etf\n",
    "import time\n",
    "import random\n",
    "import os\n",
    "from utils import *\n",
    "from constants import *"
   ]
  },
  {
   "cell_type": "code",
   "execution_count": 3,
   "metadata": {},
   "outputs": [],
   "source": [
    "etf_list = etf.get_symbols()"
   ]
  },
  {
   "cell_type": "markdown",
   "metadata": {},
   "source": [
    "# get etf profile"
   ]
  },
  {
   "cell_type": "code",
   "execution_count": null,
   "metadata": {},
   "outputs": [],
   "source": [
    "etf.get_etf_profile(\"lqd\")"
   ]
  },
  {
   "cell_type": "code",
   "execution_count": null,
   "metadata": {},
   "outputs": [],
   "source": [
    "for symbol in etf_list[2880:]:\n",
    "    time.sleep(0.3)\n",
    "    time.sleep(round(random.uniform(1.1, 2), 3))\n",
    "\n",
    "    etf_profile = etf.get_etf_profile(symbol)\n",
    "    if etf_profile is not None:\n",
    "        os.makedirs('downloads/etf_profile/', exist_ok=True)\n",
    "        etf_profile.to_csv(f'downloads/etf_profile/{symbol}_profile.csv', index=False)\n",
    "\n",
    "    # print(etf_profile)"
   ]
  },
  {
   "cell_type": "code",
   "execution_count": null,
   "metadata": {},
   "outputs": [],
   "source": [
    "concat_csv_files_in_dir('downloads/etf_profile/').to_csv('downloads/etf_profiles.csv', index=False)"
   ]
  },
  {
   "cell_type": "code",
   "execution_count": null,
   "metadata": {},
   "outputs": [],
   "source": [
    "concat_csv_files_in_dir('downloads/etf_profile/')"
   ]
  },
  {
   "cell_type": "markdown",
   "metadata": {},
   "source": [
    "# get etf info"
   ]
  },
  {
   "cell_type": "code",
   "execution_count": null,
   "metadata": {},
   "outputs": [],
   "source": [
    "for symbol in etf_list[1000:]:\n",
    "    time.sleep(0.2)\n",
    "    time.sleep(round(random.uniform(0.2, 0.8), 3))\n",
    "\n",
    "    etf_info = etf.get_etf_info(symbol)\n",
    "    if etf_info is not None:\n",
    "        os.makedirs('downloads/etf_info/', exist_ok=True)\n",
    "        etf_info.to_csv(f'downloads/etf_info/{symbol}_info.csv', index=False)"
   ]
  },
  {
   "cell_type": "code",
   "execution_count": null,
   "metadata": {},
   "outputs": [],
   "source": [
    "concat_csv_files_in_dir('downloads/etf_info/').to_csv('downloads/etf_infos.csv', index=False)"
   ]
  },
  {
   "cell_type": "markdown",
   "metadata": {},
   "source": [
    "# Merge"
   ]
  },
  {
   "cell_type": "code",
   "execution_count": null,
   "metadata": {},
   "outputs": [],
   "source": [
    "etf_master = pd.read_csv(\"./downloads/etf_list/etf_list_240605_union.csv\")\n",
    "etf_master.rename(columns={\"fund_name\": \"name\"}, inplace=True)\n",
    "etf_master['type'] = 'ETF'\n",
    "cols = ['type', 'symbol', 'name']\n",
    "etf_master = etf_master[cols]\n",
    "etf_master.head()"
   ]
  },
  {
   "cell_type": "code",
   "execution_count": null,
   "metadata": {},
   "outputs": [],
   "source": [
    "etf_profile = pd.read_csv('./downloads/etf_profiles.csv')\n",
    "etf_profile.head()"
   ]
  },
  {
   "cell_type": "code",
   "execution_count": null,
   "metadata": {},
   "outputs": [],
   "source": [
    "etf_info = pd.read_csv('./downloads/etf_infos.csv')\n",
    "etf_info.head()"
   ]
  },
  {
   "cell_type": "code",
   "execution_count": 7,
   "metadata": {},
   "outputs": [],
   "source": [
    "etf_master = etf_master.merge(etf_info, how='left', on='symbol')\n",
    "etf_master = etf_master.merge(etf_profile, how='left', on='symbol')\n",
    "etf_master.to_csv('./downloads/master/etf_master.csv', index=False)"
   ]
  },
  {
   "cell_type": "markdown",
   "metadata": {},
   "source": [
    "# holdings"
   ]
  },
  {
   "cell_type": "markdown",
   "metadata": {},
   "source": []
  },
  {
   "cell_type": "code",
   "execution_count": null,
   "metadata": {},
   "outputs": [],
   "source": [
    "etf_list = etf.get_symbols()\n",
    "etf_list = [x for x in etf_list if x not in Etfs.EXCLUDE]\n",
    "etf_list"
   ]
  },
  {
   "cell_type": "code",
   "execution_count": null,
   "metadata": {},
   "outputs": [],
   "source": [
    "etf_list = etf.get_symbols()\n",
    "etf_list = [x for x in etf_list if x not in Etfs.EXCLUDE]\n",
    "\n",
    "for symbol in etf_list[:10]:\n",
    "    time.sleep(0.2)\n",
    "    time.sleep(round(random.uniform(0.2, 0.8), 3))\n",
    "\n",
    "    etf_holdings = etf.get_etf_holdings(symbol)\n",
    "    if etf_holdings is not None:\n",
    "        os.makedirs('downloads/etf_holdings/', exist_ok=True)\n",
    "        etf_holdings.to_csv(f'downloads/etf_holdings/{symbol}_holdings.csv', index=False)"
   ]
  },
  {
   "cell_type": "code",
   "execution_count": null,
   "metadata": {},
   "outputs": [],
   "source": []
  }
 ],
 "metadata": {
  "kernelspec": {
   "display_name": "stock-database-builder",
   "language": "python",
   "name": "python3"
  },
  "language_info": {
   "codemirror_mode": {
    "name": "ipython",
    "version": 3
   },
   "file_extension": ".py",
   "mimetype": "text/x-python",
   "name": "python",
   "nbconvert_exporter": "python",
   "pygments_lexer": "ipython3",
   "version": "3.9.16"
  }
 },
 "nbformat": 4,
 "nbformat_minor": 2
}
