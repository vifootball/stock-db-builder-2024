{
 "cells": [
  {
   "cell_type": "code",
   "execution_count": 146,
   "metadata": {},
   "outputs": [],
   "source": [
    "import pandas as pd\n",
    "from urllib.request import urlopen, Request\n",
    "from bs4 import BeautifulSoup as bs\n",
    "import time\n",
    "from parse_str import *\n",
    "import requests\n",
    "import json\n",
    "from datetime import datetime\n",
    "\n"
   ]
  },
  {
   "cell_type": "code",
   "execution_count": 27,
   "metadata": {},
   "outputs": [],
   "source": [
    "def get_etf_attr1(symbol: str):\n",
    "    time.sleep(1)\n",
    "\n",
    "    date = pd.Timestamp.now().strftime(\"%Y%m%d\")\n",
    "    symbol = symbol.upper()\n",
    "    aum = None\n",
    "    expense_ratio = None\n",
    "    shares_out = None\n",
    "    dividend_ttm = None\n",
    "    dividend_yield = None\n",
    "    holdings = None\n",
    "\n",
    "    url = Request(f\"https://stockanalysis.com/etf/{symbol}/\", headers={'User-Agent': 'Mozilla/5.0'})\n",
    "    html = urlopen(url)\n",
    "    bs_obj = bs(html, \"html.parser\")\n",
    "    trs = bs_obj.find_all('tr')\n",
    "\n",
    "    for tr in (trs):\n",
    "        tds = tr.find_all('td')\n",
    "        if len(tds) > 0 :\n",
    "            if tds[0].get_text() == \"Assets\":\n",
    "                aum = tr.find_all('td')[1].get_text().replace(\"$\", \"\")\n",
    "\n",
    "            elif tds[0].get_text() == \"Expense Ratio\":\n",
    "                expense_ratio = tr.find_all('td')[1].get_text()\n",
    "\n",
    "            elif tds[0].get_text() == \"Shares Out\":\n",
    "                shares_out = tr.find_all('td')[1].get_text()\n",
    "\n",
    "            elif tds[0].get_text() == \"Dividend (ttm)\":\n",
    "                dividend_ttm = tr.find_all('td')[1].get_text().replace(\"$\", \"\")\n",
    "\n",
    "            elif tds[0].get_text() == \"Dividend Yield\":\n",
    "                dividend_yield = tr.find_all('td')[1].get_text()\n",
    "\n",
    "            elif tds[0].get_text() == \"Holdings\":\n",
    "                holdings = tr.find_all('td')[1].get_text()\n",
    "\n",
    "    data = {\n",
    "        'date': date,\n",
    "        'symbol': symbol, \n",
    "        'aum': aum, \n",
    "        'expense_ratio': expense_ratio,\n",
    "        'shares_out': shares_out,\n",
    "        'dividend_ttm': dividend_ttm,\n",
    "        'dividend_yield': dividend_yield,\n",
    "        'holdings': holdings\n",
    "    }\n",
    "    df = pd.DataFrame([data])\n",
    "    df['aum'] = df['aum'].apply(str_to_int)\n",
    "    df['expense_ratio'] = df['expense_ratio'].apply(percentage_to_float)\n",
    "    df['shares_out'] = df['shares_out'].apply(str_to_int)    \n",
    "    df['dividend_yield'] = df['dividend_yield'].apply(percentage_to_float)\n",
    "    \n",
    "    return df"
   ]
  },
  {
   "cell_type": "code",
   "execution_count": 28,
   "metadata": {},
   "outputs": [
    {
     "data": {
      "text/html": [
       "<div>\n",
       "<style scoped>\n",
       "    .dataframe tbody tr th:only-of-type {\n",
       "        vertical-align: middle;\n",
       "    }\n",
       "\n",
       "    .dataframe tbody tr th {\n",
       "        vertical-align: top;\n",
       "    }\n",
       "\n",
       "    .dataframe thead th {\n",
       "        text-align: right;\n",
       "    }\n",
       "</style>\n",
       "<table border=\"1\" class=\"dataframe\">\n",
       "  <thead>\n",
       "    <tr style=\"text-align: right;\">\n",
       "      <th></th>\n",
       "      <th>date</th>\n",
       "      <th>symbol</th>\n",
       "      <th>aum</th>\n",
       "      <th>expense_ratio</th>\n",
       "      <th>shares_out</th>\n",
       "      <th>dividend_ttm</th>\n",
       "      <th>dividend_yield</th>\n",
       "      <th>holdings</th>\n",
       "    </tr>\n",
       "  </thead>\n",
       "  <tbody>\n",
       "    <tr>\n",
       "      <th>0</th>\n",
       "      <td>20240608</td>\n",
       "      <td>SPY</td>\n",
       "      <td>535010000000</td>\n",
       "      <td>0.0009</td>\n",
       "      <td>913830000</td>\n",
       "      <td>6.72</td>\n",
       "      <td>0.0126</td>\n",
       "      <td>504</td>\n",
       "    </tr>\n",
       "  </tbody>\n",
       "</table>\n",
       "</div>"
      ],
      "text/plain": [
       "       date symbol           aum  expense_ratio  shares_out dividend_ttm  \\\n",
       "0  20240608    SPY  535010000000         0.0009   913830000         6.72   \n",
       "\n",
       "   dividend_yield holdings  \n",
       "0          0.0126      504  "
      ]
     },
     "execution_count": 28,
     "metadata": {},
     "output_type": "execute_result"
    }
   ],
   "source": [
    "symbol = \"spy\"\n",
    "df = get_etf_attr1(symbol)\n",
    "df"
   ]
  },
  {
   "cell_type": "code",
   "execution_count": 258,
   "metadata": {},
   "outputs": [],
   "source": [
    "# API URL\n",
    "symbol = 'spy'\n",
    "url = f\"https://api.stockanalysis.com/api/symbol/e/{symbol}/overview\"\n",
    "\n",
    "# API 요청 보내기\n",
    "response = requests.get(url)\n",
    "data = response.json()\n",
    "\n",
    "# ETF의 주요 정보 추출 및 출력\n",
    "etf_data = data.get(\"data\", {})"
   ]
  },
  {
   "cell_type": "code",
   "execution_count": 95,
   "metadata": {},
   "outputs": [
    {
     "data": {
      "text/plain": [
       "dict_keys(['type', 'aum', 'nav', 'expenseRatio', 'peRatio', 'sharesOut', 'dps', 'dividendYield', 'payoutRatio', 'exDivDate', 'ch1y', 'beta', 'holdings', 'inception', 'chart', 'description', 'infoTable', 'etf_website', 'provider_page', 'holdingsTable', 'dividendTable', 'news', 'config'])"
      ]
     },
     "execution_count": 95,
     "metadata": {},
     "output_type": "execute_result"
    }
   ],
   "source": [
    "etf_data.keys()"
   ]
  }
 ],
 "metadata": {
  "kernelspec": {
   "display_name": "stock-database-builder",
   "language": "python",
   "name": "python3"
  },
  "language_info": {
   "codemirror_mode": {
    "name": "ipython",
    "version": 3
   },
   "file_extension": ".py",
   "mimetype": "text/x-python",
   "name": "python",
   "nbconvert_exporter": "python",
   "pygments_lexer": "ipython3",
   "version": "3.9.16"
  }
 },
 "nbformat": 4,
 "nbformat_minor": 2
}
