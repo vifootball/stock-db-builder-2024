{
 "cells": [
  {
   "cell_type": "code",
   "execution_count": 3,
   "metadata": {},
   "outputs": [],
   "source": [
    "import pandas as pd\n",
    "from urllib.request import urlopen, Request\n",
    "from bs4 import BeautifulSoup as bs\n",
    "import time\n",
    "from parse_str import *\n",
    "import requests\n",
    "import json\n",
    "from datetime import datetime"
   ]
  },
  {
   "cell_type": "code",
   "execution_count": 4,
   "metadata": {},
   "outputs": [
    {
     "data": {
      "text/plain": [
       "[['Asset Class', 'Alternatives'],\n",
       " ['Category', 'Moderately Conservative Allocation'],\n",
       " ['Region', 'North America'],\n",
       " ['Stock Exchange', 'NYSEARCA'],\n",
       " ['Ticker Symbol', 'RPAR'],\n",
       " ['Provider', 'Tidal']]"
      ]
     },
     "execution_count": 4,
     "metadata": {},
     "output_type": "execute_result"
    }
   ],
   "source": [
    "# API URL\n",
    "symbol = 'rpar'\n",
    "url = f\"https://api.stockanalysis.com/api/symbol/e/{symbol}/overview\"\n",
    "\n",
    "# API 요청 보내기\n",
    "response = requests.get(url)\n",
    "data = response.json()\n",
    "\n",
    "# ETF의 주요 정보 추출 및 출력\n",
    "etf_data = data.get(\"data\", {})\n",
    "data = etf_data.get(\"infoTable\")\n",
    "data"
   ]
  },
  {
   "cell_type": "code",
   "execution_count": 7,
   "metadata": {},
   "outputs": [
    {
     "data": {
      "text/html": [
       "<div>\n",
       "<style scoped>\n",
       "    .dataframe tbody tr th:only-of-type {\n",
       "        vertical-align: middle;\n",
       "    }\n",
       "\n",
       "    .dataframe tbody tr th {\n",
       "        vertical-align: top;\n",
       "    }\n",
       "\n",
       "    .dataframe thead th {\n",
       "        text-align: right;\n",
       "    }\n",
       "</style>\n",
       "<table border=\"1\" class=\"dataframe\">\n",
       "  <thead>\n",
       "    <tr style=\"text-align: right;\">\n",
       "      <th></th>\n",
       "      <th>symbol</th>\n",
       "      <th>asset_class</th>\n",
       "      <th>category</th>\n",
       "      <th>region</th>\n",
       "      <th>stock_exchange</th>\n",
       "      <th>fund_family</th>\n",
       "      <th>index_tracked</th>\n",
       "    </tr>\n",
       "  </thead>\n",
       "  <tbody>\n",
       "    <tr>\n",
       "      <th>0</th>\n",
       "      <td>WFH</td>\n",
       "      <td>Equity</td>\n",
       "      <td>Technology</td>\n",
       "      <td>n/a</td>\n",
       "      <td>NYSEARCA</td>\n",
       "      <td>Direxion</td>\n",
       "      <td>Solactive Remote Work Index</td>\n",
       "    </tr>\n",
       "  </tbody>\n",
       "</table>\n",
       "</div>"
      ],
      "text/plain": [
       "  symbol asset_class    category region stock_exchange fund_family  \\\n",
       "0    WFH      Equity  Technology    n/a       NYSEARCA    Direxion   \n",
       "\n",
       "                 index_tracked  \n",
       "0  Solactive Remote Work Index  "
      ]
     },
     "metadata": {},
     "output_type": "display_data"
    },
    {
     "data": {
      "text/html": [
       "<div>\n",
       "<style scoped>\n",
       "    .dataframe tbody tr th:only-of-type {\n",
       "        vertical-align: middle;\n",
       "    }\n",
       "\n",
       "    .dataframe tbody tr th {\n",
       "        vertical-align: top;\n",
       "    }\n",
       "\n",
       "    .dataframe thead th {\n",
       "        text-align: right;\n",
       "    }\n",
       "</style>\n",
       "<table border=\"1\" class=\"dataframe\">\n",
       "  <thead>\n",
       "    <tr style=\"text-align: right;\">\n",
       "      <th></th>\n",
       "      <th>symbol</th>\n",
       "      <th>asset_class</th>\n",
       "      <th>category</th>\n",
       "      <th>region</th>\n",
       "      <th>stock_exchange</th>\n",
       "      <th>fund_family</th>\n",
       "      <th>index_tracked</th>\n",
       "    </tr>\n",
       "  </thead>\n",
       "  <tbody>\n",
       "    <tr>\n",
       "      <th>0</th>\n",
       "      <td>FLCB</td>\n",
       "      <td>Fixed Income</td>\n",
       "      <td>Intermediate Core Bond</td>\n",
       "      <td>North America</td>\n",
       "      <td>NYSEARCA</td>\n",
       "      <td>Franklin Templeton</td>\n",
       "      <td>n/a</td>\n",
       "    </tr>\n",
       "  </tbody>\n",
       "</table>\n",
       "</div>"
      ],
      "text/plain": [
       "  symbol   asset_class                category         region stock_exchange  \\\n",
       "0   FLCB  Fixed Income  Intermediate Core Bond  North America       NYSEARCA   \n",
       "\n",
       "          fund_family index_tracked  \n",
       "0  Franklin Templeton           n/a  "
      ]
     },
     "metadata": {},
     "output_type": "display_data"
    },
    {
     "name": "stdout",
     "output_type": "stream",
     "text": [
      "Empty Response: flaab\n"
     ]
    },
    {
     "data": {
      "text/plain": [
       "None"
      ]
     },
     "metadata": {},
     "output_type": "display_data"
    }
   ],
   "source": [
    "# etf_data.keys()\n",
    "# 분할해서 만든다: 비효율적이어도 디버그 하기 쉽다\n",
    "\n",
    "def get_etf_profile(symbol: str):\n",
    "    # API URL\n",
    "    url = f\"https://api.stockanalysis.com/api/symbol/e/{symbol}/overview\"\n",
    "\n",
    "    # API 요청 보내기\n",
    "    response = requests.get(url)\n",
    "    response = response.json()\n",
    "\n",
    "    etf_data = response.get(\"data\", {})\n",
    "    data = etf_data.get(\"infoTable\")\n",
    "    if not etf_data:\n",
    "        print(f\"Empty Response: {symbol}\")\n",
    "        return None\n",
    "    \n",
    "    data_dict = {item[0]: item[1] for item in data}\n",
    "    df = pd.DataFrame([data_dict])\n",
    "    \n",
    "    # 컬럼명 수정\n",
    "    df.rename(columns={\n",
    "        \"Asset Class\": \"asset_class\",\n",
    "        \"Category\": \"category\",\n",
    "        \"Region\": \"region\",\n",
    "        \"Stock Exchange\": \"stock_exchange\",\n",
    "        \"Ticker Symbol\": \"symbol\",\n",
    "        \"Provider\": \"fund_family\",\n",
    "        \"Index Tracked\": \"index_tracked\"\n",
    "    }, inplace=True)\n",
    "\n",
    "    # 결측치 삽입\n",
    "    if \"category\" not in df.columns:\n",
    "        df[\"category\"] = \"n/a\"\n",
    "    if \"region\" not in df.columns:\n",
    "        df[\"region\"] = \"n/a\"\n",
    "    if \"index_tracked\" not in df.columns:\n",
    "        df[\"index_tracked\"] = \"n/a\"\n",
    "\n",
    "    # 컬럼 순서 정렬\n",
    "    df = df[[\n",
    "       \"symbol\", \"asset_class\", \"category\", \"region\", \"stock_exchange\", \"fund_family\", \"index_tracked\"\n",
    "    ]]\n",
    "\n",
    "    return df\n",
    "\n",
    "# display(get_etf_profile(\"xlv\"))\n",
    "display(get_etf_profile(\"wfh\"))\n",
    "display(get_etf_profile(\"flcb\"))\n",
    "display(get_etf_profile(\"flaab\"))"
   ]
  },
  {
   "cell_type": "code",
   "execution_count": null,
   "metadata": {},
   "outputs": [],
   "source": []
  }
 ],
 "metadata": {
  "kernelspec": {
   "display_name": "stock-database-builder",
   "language": "python",
   "name": "python3"
  },
  "language_info": {
   "codemirror_mode": {
    "name": "ipython",
    "version": 3
   },
   "file_extension": ".py",
   "mimetype": "text/x-python",
   "name": "python",
   "nbconvert_exporter": "python",
   "pygments_lexer": "ipython3",
   "version": "3.9.16"
  }
 },
 "nbformat": 4,
 "nbformat_minor": 2
}
